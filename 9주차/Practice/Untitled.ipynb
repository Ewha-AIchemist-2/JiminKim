{
 "cells": [
  {
   "cell_type": "code",
   "execution_count": 1,
   "id": "90d004b3-1626-41d0-b428-791136167a91",
   "metadata": {},
   "outputs": [],
   "source": [
    "from sklearn.datasets import fetch_20newsgroups \n",
    "news_data = fetch_20newsgroups(subset='all', random_state=156)"
   ]
  },
  {
   "cell_type": "code",
   "execution_count": null,
   "id": "3ca4ad0a-49b8-4946-b045-41952a48fd8b",
   "metadata": {},
   "outputs": [],
   "source": [
    "print(news-data.keys())"
   ]
  },
  {
   "cell_type": "code",
   "execution_count": null,
   "id": "f3066277-6cd3-4698-8eaa-212c38c490d8",
   "metadata": {},
   "outputs": [],
   "source": [
    "dict_keys(['data','filenames','target_names','target','DESCR']) "
   ]
  },
  {
   "cell_type": "code",
   "execution_count": null,
   "id": "8e671e7b-abff-4e04-9a65-d17434be8427",
   "metadata": {},
   "outputs": [],
   "source": [
    "import pandas as pd \n",
    "print('target 클래스의 값과 분포도 \\n' , pd.Series(news_data.target).value_counts().sort_index()) \n",
    "print('target 클래스의 이름들 \\n', news_data.target_names)"
   ]
  },
  {
   "cell_type": "code",
   "execution_count": 2,
   "id": "edbd9691-9190-484b-bb33-f712ec1cd6fe",
   "metadata": {},
   "outputs": [
    {
     "name": "stdout",
     "output_type": "stream",
     "text": [
      "From: egreen@east.sun.com (Ed Green - Pixel Cruncher)\n",
      "Subject: Re: Observation re: helmets\n",
      "Organization: Sun Microsystems, RTP, NC\n",
      "Lines: 21\n",
      "Distribution: world\n",
      "Reply-To: egreen@east.sun.com\n",
      "NNTP-Posting-Host: laser.east.sun.com\n",
      "\n",
      "In article 211353@mavenry.altcit.eskimo.com, maven@mavenry.altcit.eskimo.com (Norman Hamer) writes:\n",
      "> \n",
      "> The question for the day is re: passenger helmets, if you don't know for \n",
      ">certain who's gonna ride with you (like say you meet them at a .... church \n",
      ">meeting, yeah, that's the ticket)... What are some guidelines? Should I just \n",
      ">pick up another shoei in my size to have a backup helmet (XL), or should I \n",
      ">maybe get an inexpensive one of a smaller size to accomodate my likely \n",
      ">passenger? \n",
      "\n",
      "If your primary concern is protecting the passenger in the event of a\n",
      "crash, have him or her fitted for a helmet that is their size.  If your\n",
      "primary concern is complying with stupid helmet laws, carry a real big\n",
      "spare (you can put a big or small head in a big helmet, but not in a\n",
      "small one).\n",
      "\n",
      "---\n",
      "Ed Green, former Ninjaite |I was drinking last night with a biker,\n",
      "  Ed.Green@East.Sun.COM   |and I showed him a picture of you.  I said,\n",
      "DoD #0111  (919)460-8302  |\"Go on, get to know her, you'll like her!\"\n",
      " (The Grateful Dead) -->  |It seemed like the least I could do...\n",
      "\n",
      "\n"
     ]
    }
   ],
   "source": [
    "print(news_data.data[0]) "
   ]
  },
  {
   "cell_type": "code",
   "execution_count": null,
   "id": "ec9bd806-fdda-4fb8-84bc-59c9d090785d",
   "metadata": {},
   "outputs": [],
   "source": [
    "from sklearn.datasets import fetch_20newsgroups \n",
    "# subset='train'으로 학습용 데이터만 추출， remove=('headers', 'footers' , 'quotes')로 내용만 추출 \n",
    "train_news = fetch_20newsgroups(subset='train', remove=('headers' , 'footers' , 'quotes'), random_state=156) \n",
    "X_train = train_news.data \n",
    "y_train = train_news.target \n",
    "# subset=’ test ’ 으로 테스트 데 이 터 만 추출， remove=('headers','footers','quotes')로 내용만 추출 \n",
    "test_news= fetch_20newsgroups(subset='test', remove=('headers','footers','quotes'),random_state=156) \n",
    "X_test = test_news.data \n",
    "y_test = test_news.target \n",
    "print('학습 데이터 크기 {0}, 테스트 데이터 크기 {1 }'.format(len(train_news.data), len(test_news.data)))"
   ]
  },
  {
   "cell_type": "code",
   "execution_count": null,
   "id": "5d17cac6-6c14-40ee-b4aa-4f914f4517fd",
   "metadata": {},
   "outputs": [],
   "source": [
    "from sklearn.feature_extraction.text import CountVectorizer \n",
    "# Count Vectorization으로 피처 벡터화 변환 수행. \n",
    "cnt_vect = CountVectorizer() \n",
    "cnt_vect.fit(X_train) \n",
    "X_train_cnt_vect = cnt_vect.transform(X_train) \n",
    "# 학습 데이터로 fit( )된 CountVectorizer를 이용해 테스트 데이터를 피처 벡터화 변환 수행 \n",
    "X_test_cnt_vect = cnt_vect.transform(X_test) \n",
    "print('학습 데이터 텍스트의 CountVectorizer Shape:', X_train_cnt_vect.shape)"
   ]
  },
  {
   "cell_type": "code",
   "execution_count": null,
   "id": "d37b4bf0-1767-4dcf-9e77-559b8352ae77",
   "metadata": {},
   "outputs": [],
   "source": [
    "from sklearn.linear_model import LogisticRegression \n",
    "from sklearn.metrics import accuracy_score \n",
    "import warnt rrgs \n",
    "warnings.filterwarnings('ignore') \n",
    "# LogisticRegression을 이용하여 학습/예측/평가 수행 \n",
    "lr_clf = LogisticRegression(solver='liblinear') \n",
    "lr_clf.fit(X_train_cnt_vect , y_train) \n",
    "pred = lr_clf.predict(X_test_cnt_vect) \n",
    "print('CountVectorized Logistic Regression의 예측 정확도는 {0:.3f}'.format(accuracy_score(y_test,pred)))"
   ]
  },
  {
   "cell_type": "code",
   "execution_count": null,
   "id": "41365f15-b7a6-460d-b260-971aaf0029e2",
   "metadata": {},
   "outputs": [],
   "source": [
    "from sklearn.feature_extraction.text import TfidfVectorizer \n",
    "# TF-IDF 뱃터화를 적용해 학습 데이터 세트와 테스트 데이터 세트 변환. \n",
    "tfidf_vect = TfidfVectorizer() \n",
    "tfidf_vect.fit(X_train) \n",
    "X_train_tfidf_vect = tfidf_vect.transform(X_train) \n",
    "X_test_tfidf_vect = tfidf_vect.transform(X_test) \n",
    "\n",
    "# LogisticRegression을 이용해 학습/예측/평가 수행. \n",
    "lr_clf = LogisticRegression(solver='liblinear' ) \n",
    "lr_clf.fit(X_train_tfidf_vect, y_train) \n",
    "pred = lr_clf.predict(X_test_tfidf_vect) \n",
    "print('TF-IDF Logistic Regression의 예측 정확도는 {0:.3f}'.format(accuracy_score(y_test, pred)))"
   ]
  },
  {
   "cell_type": "code",
   "execution_count": null,
   "id": "03009559-f03b-4bd6-a73d-2d962053c892",
   "metadata": {},
   "outputs": [],
   "source": [
    "# stop words 필터링을 추가하고 ngram을 기본 (1 , 1)에서 (1 , 2)로 변경해 피처 벡터화 적용. \n",
    "tfidf_vect=TfidfVectorizer(stop_words='english',ngram_range(1,2),max_df=300 ) \n",
    "tfidf_vect.fit(X_train) \n",
    "X_train_tfidf_vect = tfidf_vect.transform(X_train) \n",
    "X_test_tfidf_vect = tfidf_vect.transform(X_test) \n",
    "lr_clf = LogisticRegression(solver='liblinear') \n",
    "lr_clf.fit(X_train_tfidf_vect, y_train)\n",
    "pred = lr_clf.predict(X_test_tfidf_vect) \n",
    "print('TF-IDF Vectorized Logistic Regression 의 예측 정확도는 {0:.3f}'.format(accuracy_score(y_test, pred)))"
   ]
  },
  {
   "cell_type": "code",
   "execution_count": null,
   "id": "ee571bc2-b2d7-4983-867c-7fb9eb2666ca",
   "metadata": {},
   "outputs": [],
   "source": [
    "from sklearn.model_selection import GridSearchCV \n",
    "# 최적 [ 값 도출 튜닝 수행. CV는 3 폴드 세트로 설정. \n",
    "params = { ’(': [0 .이， 0.1 ， 1 ， 5， 10]) \n",
    "grid_cv_lr = GridSearchCV(lr_clf, param_grid=params, cv=3, scoring=’accuracy ' , verbose=1 ) \n",
    "grid_cv_lr.fit(X_train_tfidf_vect, y_train) \n",
    "print( ’ Logistic Regression best C parameter : ’ , grid_cv_lr.best_params_ ) \n",
    "# 최적 [ 값으로 학습된 grid_cv로 예측 및 정확도 평가. \n",
    "pred = grid_cv_lr.predict(X_test_tfidf_vect) \n",
    "print( ’TF-IDF Vectorized Logistic Regression의 예측 정확도는 {0:.3f}' .format( \n",
    "accuracy_score(y_test, pred))) "
   ]
  }
 ],
 "metadata": {
  "kernelspec": {
   "display_name": "Python 3 (ipykernel)",
   "language": "python",
   "name": "python3"
  },
  "language_info": {
   "codemirror_mode": {
    "name": "ipython",
    "version": 3
   },
   "file_extension": ".py",
   "mimetype": "text/x-python",
   "name": "python",
   "nbconvert_exporter": "python",
   "pygments_lexer": "ipython3",
   "version": "3.11.5"
  }
 },
 "nbformat": 4,
 "nbformat_minor": 5
}
