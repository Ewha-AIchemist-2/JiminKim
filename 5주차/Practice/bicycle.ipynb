{
 "cells": [
  {
   "cell_type": "code",
   "execution_count": 2,
   "id": "9a42aa12-cb13-46a4-9630-fd3b370c12fc",
   "metadata": {},
   "outputs": [
    {
     "name": "stdout",
     "output_type": "stream",
     "text": [
      "(10886, 12)\n"
     ]
    },
    {
     "data": {
      "text/html": [
       "<div>\n",
       "<style scoped>\n",
       "    .dataframe tbody tr th:only-of-type {\n",
       "        vertical-align: middle;\n",
       "    }\n",
       "\n",
       "    .dataframe tbody tr th {\n",
       "        vertical-align: top;\n",
       "    }\n",
       "\n",
       "    .dataframe thead th {\n",
       "        text-align: right;\n",
       "    }\n",
       "</style>\n",
       "<table border=\"1\" class=\"dataframe\">\n",
       "  <thead>\n",
       "    <tr style=\"text-align: right;\">\n",
       "      <th></th>\n",
       "      <th>datetime</th>\n",
       "      <th>season</th>\n",
       "      <th>holiday</th>\n",
       "      <th>workingday</th>\n",
       "      <th>weather</th>\n",
       "      <th>temp</th>\n",
       "      <th>atemp</th>\n",
       "      <th>humidity</th>\n",
       "      <th>windspeed</th>\n",
       "      <th>casual</th>\n",
       "      <th>registered</th>\n",
       "      <th>count</th>\n",
       "    </tr>\n",
       "  </thead>\n",
       "  <tbody>\n",
       "    <tr>\n",
       "      <th>0</th>\n",
       "      <td>2011-01-01 00:00:00</td>\n",
       "      <td>1</td>\n",
       "      <td>0</td>\n",
       "      <td>0</td>\n",
       "      <td>1</td>\n",
       "      <td>9.84</td>\n",
       "      <td>14.395</td>\n",
       "      <td>81</td>\n",
       "      <td>0.0</td>\n",
       "      <td>3</td>\n",
       "      <td>13</td>\n",
       "      <td>16</td>\n",
       "    </tr>\n",
       "    <tr>\n",
       "      <th>1</th>\n",
       "      <td>2011-01-01 01:00:00</td>\n",
       "      <td>1</td>\n",
       "      <td>0</td>\n",
       "      <td>0</td>\n",
       "      <td>1</td>\n",
       "      <td>9.02</td>\n",
       "      <td>13.635</td>\n",
       "      <td>80</td>\n",
       "      <td>0.0</td>\n",
       "      <td>8</td>\n",
       "      <td>32</td>\n",
       "      <td>40</td>\n",
       "    </tr>\n",
       "    <tr>\n",
       "      <th>2</th>\n",
       "      <td>2011-01-01 02:00:00</td>\n",
       "      <td>1</td>\n",
       "      <td>0</td>\n",
       "      <td>0</td>\n",
       "      <td>1</td>\n",
       "      <td>9.02</td>\n",
       "      <td>13.635</td>\n",
       "      <td>80</td>\n",
       "      <td>0.0</td>\n",
       "      <td>5</td>\n",
       "      <td>27</td>\n",
       "      <td>32</td>\n",
       "    </tr>\n",
       "    <tr>\n",
       "      <th>3</th>\n",
       "      <td>2011-01-01 03:00:00</td>\n",
       "      <td>1</td>\n",
       "      <td>0</td>\n",
       "      <td>0</td>\n",
       "      <td>1</td>\n",
       "      <td>9.84</td>\n",
       "      <td>14.395</td>\n",
       "      <td>75</td>\n",
       "      <td>0.0</td>\n",
       "      <td>3</td>\n",
       "      <td>10</td>\n",
       "      <td>13</td>\n",
       "    </tr>\n",
       "    <tr>\n",
       "      <th>4</th>\n",
       "      <td>2011-01-01 04:00:00</td>\n",
       "      <td>1</td>\n",
       "      <td>0</td>\n",
       "      <td>0</td>\n",
       "      <td>1</td>\n",
       "      <td>9.84</td>\n",
       "      <td>14.395</td>\n",
       "      <td>75</td>\n",
       "      <td>0.0</td>\n",
       "      <td>0</td>\n",
       "      <td>1</td>\n",
       "      <td>1</td>\n",
       "    </tr>\n",
       "  </tbody>\n",
       "</table>\n",
       "</div>"
      ],
      "text/plain": [
       "              datetime  season  holiday  workingday  weather  temp   atemp  \\\n",
       "0  2011-01-01 00:00:00       1        0           0        1  9.84  14.395   \n",
       "1  2011-01-01 01:00:00       1        0           0        1  9.02  13.635   \n",
       "2  2011-01-01 02:00:00       1        0           0        1  9.02  13.635   \n",
       "3  2011-01-01 03:00:00       1        0           0        1  9.84  14.395   \n",
       "4  2011-01-01 04:00:00       1        0           0        1  9.84  14.395   \n",
       "\n",
       "   humidity  windspeed  casual  registered  count  \n",
       "0        81        0.0       3          13     16  \n",
       "1        80        0.0       8          32     40  \n",
       "2        80        0.0       5          27     32  \n",
       "3        75        0.0       3          10     13  \n",
       "4        75        0.0       0           1      1  "
      ]
     },
     "execution_count": 2,
     "metadata": {},
     "output_type": "execute_result"
    }
   ],
   "source": [
    "import numpy as np \n",
    "import pandas as pd \n",
    "import seaborn as sns \n",
    "import matplotlib.pyplot as plt\n",
    "%matplotlib inline \n",
    "import warnings \n",
    "warnings.filterwarnings(\"ignore\", category=RuntimeWarning) \n",
    "bike_df = pd.read_csv(\"C://Users//jiminkim//OneDrive//바탕 화면//bike-sharing-demand//train.csv\") \n",
    "print(bike_df.shape) \n",
    "bike_df.head() "
   ]
  },
  {
   "cell_type": "code",
   "execution_count": 3,
   "id": "57ffaccd-5e90-4efe-93f5-53f2cf3321da",
   "metadata": {},
   "outputs": [
    {
     "name": "stdout",
     "output_type": "stream",
     "text": [
      "<class 'pandas.core.frame.DataFrame'>\n",
      "RangeIndex: 10886 entries, 0 to 10885\n",
      "Data columns (total 12 columns):\n",
      " #   Column      Non-Null Count  Dtype  \n",
      "---  ------      --------------  -----  \n",
      " 0   datetime    10886 non-null  object \n",
      " 1   season      10886 non-null  int64  \n",
      " 2   holiday     10886 non-null  int64  \n",
      " 3   workingday  10886 non-null  int64  \n",
      " 4   weather     10886 non-null  int64  \n",
      " 5   temp        10886 non-null  float64\n",
      " 6   atemp       10886 non-null  float64\n",
      " 7   humidity    10886 non-null  int64  \n",
      " 8   windspeed   10886 non-null  float64\n",
      " 9   casual      10886 non-null  int64  \n",
      " 10  registered  10886 non-null  int64  \n",
      " 11  count       10886 non-null  int64  \n",
      "dtypes: float64(3), int64(8), object(1)\n",
      "memory usage: 1020.7+ KB\n"
     ]
    }
   ],
   "source": [
    "bike_df.info() "
   ]
  },
  {
   "cell_type": "code",
   "execution_count": 6,
   "id": "758b1bdb-9d1a-424b-b37a-7fc61482777d",
   "metadata": {},
   "outputs": [
    {
     "data": {
      "text/html": [
       "<div>\n",
       "<style scoped>\n",
       "    .dataframe tbody tr th:only-of-type {\n",
       "        vertical-align: middle;\n",
       "    }\n",
       "\n",
       "    .dataframe tbody tr th {\n",
       "        vertical-align: top;\n",
       "    }\n",
       "\n",
       "    .dataframe thead th {\n",
       "        text-align: right;\n",
       "    }\n",
       "</style>\n",
       "<table border=\"1\" class=\"dataframe\">\n",
       "  <thead>\n",
       "    <tr style=\"text-align: right;\">\n",
       "      <th></th>\n",
       "      <th>datetime</th>\n",
       "      <th>season</th>\n",
       "      <th>holiday</th>\n",
       "      <th>workingday</th>\n",
       "      <th>weather</th>\n",
       "      <th>temp</th>\n",
       "      <th>atemp</th>\n",
       "      <th>humidity</th>\n",
       "      <th>windspeed</th>\n",
       "      <th>casual</th>\n",
       "      <th>registered</th>\n",
       "      <th>count</th>\n",
       "      <th>year</th>\n",
       "      <th>month</th>\n",
       "      <th>day</th>\n",
       "      <th>hour</th>\n",
       "    </tr>\n",
       "  </thead>\n",
       "  <tbody>\n",
       "    <tr>\n",
       "      <th>0</th>\n",
       "      <td>2011-01-01 00:00:00</td>\n",
       "      <td>1</td>\n",
       "      <td>0</td>\n",
       "      <td>0</td>\n",
       "      <td>1</td>\n",
       "      <td>9.84</td>\n",
       "      <td>14.395</td>\n",
       "      <td>81</td>\n",
       "      <td>0.0</td>\n",
       "      <td>3</td>\n",
       "      <td>13</td>\n",
       "      <td>16</td>\n",
       "      <td>2011</td>\n",
       "      <td>1</td>\n",
       "      <td>1</td>\n",
       "      <td>0</td>\n",
       "    </tr>\n",
       "    <tr>\n",
       "      <th>1</th>\n",
       "      <td>2011-01-01 01:00:00</td>\n",
       "      <td>1</td>\n",
       "      <td>0</td>\n",
       "      <td>0</td>\n",
       "      <td>1</td>\n",
       "      <td>9.02</td>\n",
       "      <td>13.635</td>\n",
       "      <td>80</td>\n",
       "      <td>0.0</td>\n",
       "      <td>8</td>\n",
       "      <td>32</td>\n",
       "      <td>40</td>\n",
       "      <td>2011</td>\n",
       "      <td>1</td>\n",
       "      <td>1</td>\n",
       "      <td>1</td>\n",
       "    </tr>\n",
       "    <tr>\n",
       "      <th>2</th>\n",
       "      <td>2011-01-01 02:00:00</td>\n",
       "      <td>1</td>\n",
       "      <td>0</td>\n",
       "      <td>0</td>\n",
       "      <td>1</td>\n",
       "      <td>9.02</td>\n",
       "      <td>13.635</td>\n",
       "      <td>80</td>\n",
       "      <td>0.0</td>\n",
       "      <td>5</td>\n",
       "      <td>27</td>\n",
       "      <td>32</td>\n",
       "      <td>2011</td>\n",
       "      <td>1</td>\n",
       "      <td>1</td>\n",
       "      <td>2</td>\n",
       "    </tr>\n",
       "  </tbody>\n",
       "</table>\n",
       "</div>"
      ],
      "text/plain": [
       "             datetime  season  holiday  workingday  weather  temp   atemp  \\\n",
       "0 2011-01-01 00:00:00       1        0           0        1  9.84  14.395   \n",
       "1 2011-01-01 01:00:00       1        0           0        1  9.02  13.635   \n",
       "2 2011-01-01 02:00:00       1        0           0        1  9.02  13.635   \n",
       "\n",
       "   humidity  windspeed  casual  registered  count  year  month  day  hour  \n",
       "0        81        0.0       3          13     16  2011      1    1     0  \n",
       "1        80        0.0       8          32     40  2011      1    1     1  \n",
       "2        80        0.0       5          27     32  2011      1    1     2  "
      ]
     },
     "execution_count": 6,
     "metadata": {},
     "output_type": "execute_result"
    }
   ],
   "source": [
    "# 문자열을 datetime 타입으로 변경 \n",
    "bike_df['datetime' ] = bike_df.datetime.apply(pd.to_datetime) \n",
    "# datetime 타입에서 년y 월/ 일r 시간 추출 \n",
    "bike_df[ 'year'] = bike_df.datetime.apply(lambda x : x.year) \n",
    "bike_df['month'] = bike_df.datetime.apply(lambda x : x.month) \n",
    "bike_df['day'] = bike_df.datetime.apply(lambda x : x.day) \n",
    "bike_df[ 'hour'] = bike_df.datetime.apply(lambda x: x.hour) \n",
    "bike_df.head(3) "
   ]
  },
  {
   "cell_type": "code",
   "execution_count": 7,
   "id": "39ed1550-6bf9-4b1f-bfbe-9901e0e4e614",
   "metadata": {},
   "outputs": [],
   "source": [
    "drop_columns = ['datetime', 'casual','registered']\n",
    "bike_df.drop(drop_columns, axis=1,inplace=True)"
   ]
  },
  {
   "cell_type": "code",
   "execution_count": 13,
   "id": "cbb86084-9f81-4fa6-9b3a-61c56c415f57",
   "metadata": {},
   "outputs": [
    {
     "data": {
      "image/png": "[encoded data removed]",
      "text/plain": [
       "<Figure size 1600x800 with 8 Axes>"
      ]
     },
     "metadata": {},
     "output_type": "display_data"
    }
   ],
   "source": [
    "fig, axs = plt.subplots(figsize=(16, 8), ncols=4, nrows=2) \n",
    "cat_features = ['year','month','season' ,'weather','day','hour','holiday','workingday'] \n",
    "# cat_features어| 있는 모든 칼럼 별로 개 별 칼럼 값에 따른 count의 합을 barp10t으로 시 각화 \n",
    "for i , feature in enumerate(cat_features): \n",
    "    row = int(i/4) \n",
    "    col = i%4 \n",
    "#시본의 barp10t을 이용해 칼럼 값에 따른 count의 합을 표현sns.barp10t(x=feature, y='count’, data=bike_df, ax=axs[row][co1]) \n",
    "    sns.barplot(x=feature, y='count', data=bike_df,ax=axs[row][col])"
   ]
  },
  {
   "cell_type": "code",
   "execution_count": 25,
   "id": "f6f1939f-b243-4d9f-a8d5-e610920e2419",
   "metadata": {},
   "outputs": [],
   "source": [
    "from sklearn.metrics import mean_squared_error, mean_absolute_error \n",
    "# 10g 값 변환 시 NaN 등의 이슈로 10g()가 아닌 10g1 p()를 이용해 RMSLE 계산 \n",
    "def rmsle(y, pred): \n",
    "    log_y = np.log1p(y) \n",
    "    log_pred = np.log1p(pred) \n",
    "    squared_error = (log_y - log_pred) ** 2 \n",
    "    rmsle = np.sqrt(np.mean(squared_error)) \n",
    "    return rmsle \n",
    "# 사이킷런의 mean_square_error()를 이용해 RMSE 계산 \n",
    "def rmse(y, pred): \n",
    "    return np.sqrt(mean_squared_error(y, pred))\n",
    "# MSE , RMSE , RMSLE를 모두 계산 \n",
    "def evaluate_regr(y, pred) : \n",
    "    rmsle_val = rmsle(y, pred) \n",
    "    rmse_val = rmse(y , pred) \n",
    "# MAE는 사이킷런의 mean_abso1ute_error()로 계산 \n",
    "    mae_val = mean_absolute_error(y, pred) \n",
    "    print('RMSLE : {0:.3f}, RMSE: {1:.3F}, MAE : {2:.3F}'.format(rmsle_val , rmse_val , mae_val)) "
   ]
  },
  {
   "cell_type": "code",
   "execution_count": 26,
   "id": "bd3e302d-9125-4bc5-95f9-4d1403abaf94",
   "metadata": {},
   "outputs": [],
   "source": [
    "# 다음과 같은 rms1e 구현은 오버플로나 언더플로 오류를 발생하기 쉽습니다. \n",
    "def rmsle(y, pred) : \n",
    "    msle = mean_squared_log_error(y_pred) \n",
    "    rmsle = np.sqrt(mse) \n",
    "    return rmsle "
   ]
  },
  {
   "cell_type": "code",
   "execution_count": 28,
   "id": "c137828b-f827-481f-ae6a-f53c37d74339",
   "metadata": {},
   "outputs": [
    {
     "ename": "NameError",
     "evalue": "name 'mean_squared_log_error' is not defined",
     "output_type": "error",
     "traceback": [
      "\u001b[1;31m---------------------------------------------------------------------------\u001b[0m",
      "\u001b[1;31mNameError\u001b[0m                                 Traceback (most recent call last)",
      "Cell \u001b[1;32mIn[28], line 9\u001b[0m\n\u001b[0;32m      7\u001b[0m lr_reg\u001b[38;5;241m.\u001b[39mfit(X_train, y_train) \n\u001b[0;32m      8\u001b[0m pred \u001b[38;5;241m=\u001b[39m lr_reg\u001b[38;5;241m.\u001b[39mpredict(X_test) \n\u001b[1;32m----> 9\u001b[0m evaluate_regr(y_test, pred)\n",
      "Cell \u001b[1;32mIn[25], line 14\u001b[0m, in \u001b[0;36mevaluate_regr\u001b[1;34m(y, pred)\u001b[0m\n\u001b[0;32m     13\u001b[0m \u001b[38;5;28;01mdef\u001b[39;00m \u001b[38;5;21mevaluate_regr\u001b[39m(y, pred) : \n\u001b[1;32m---> 14\u001b[0m     rmsle_val \u001b[38;5;241m=\u001b[39m rmsle(y, pred) \n\u001b[0;32m     15\u001b[0m     rmse_val \u001b[38;5;241m=\u001b[39m rmse(y , pred) \n\u001b[0;32m     16\u001b[0m \u001b[38;5;66;03m# MAE는 사이킷런의 mean_abso1ute_error()로 계산 \u001b[39;00m\n",
      "Cell \u001b[1;32mIn[26], line 3\u001b[0m, in \u001b[0;36mrmsle\u001b[1;34m(y, pred)\u001b[0m\n\u001b[0;32m      2\u001b[0m \u001b[38;5;28;01mdef\u001b[39;00m \u001b[38;5;21mrmsle\u001b[39m(y, pred) : \n\u001b[1;32m----> 3\u001b[0m     msle \u001b[38;5;241m=\u001b[39m mean_squared_log_error(y_pred) \n\u001b[0;32m      4\u001b[0m     rmsle \u001b[38;5;241m=\u001b[39m np\u001b[38;5;241m.\u001b[39msqrt(mse) \n\u001b[0;32m      5\u001b[0m     \u001b[38;5;28;01mreturn\u001b[39;00m rmsle\n",
      "\u001b[1;31mNameError\u001b[0m: name 'mean_squared_log_error' is not defined"
     ]
    }
   ],
   "source": [
    "from sklearn.model_selection import train_test_split, GridSearchCV \n",
    "from sklearn.linear_model import LinearRegression, Ridge, Lasso \n",
    "y_target = bike_df['count'] \n",
    "X_features = bike_df.drop(['count'], axis=1 , inplace=False) \n",
    "X_train, X_test, y_train, y_test = train_test_split(X_features, y_target, test_size=0.3,random_state=0) \n",
    "lr_reg = LinearRegression() \n",
    "lr_reg.fit(X_train, y_train) \n",
    "pred = lr_reg.predict(X_test) \n",
    "evaluate_regr(y_test, pred)"
   ]
  },
  {
   "cell_type": "code",
   "execution_count": 29,
   "id": "8297cc04-7b21-414e-8732-b586adf1beb4",
   "metadata": {},
   "outputs": [
    {
     "ename": "SyntaxError",
     "evalue": "closing parenthesis ')' does not match opening parenthesis '[' (873067173.py, line 3)",
     "output_type": "error",
     "traceback": [
      "\u001b[1;36m  Cell \u001b[1;32mIn[29], line 3\u001b[1;36m\u001b[0m\n\u001b[1;33m    result_df['predicted_count')= np.round(pred)\u001b[0m\n\u001b[1;37m                               ^\u001b[0m\n\u001b[1;31mSyntaxError\u001b[0m\u001b[1;31m:\u001b[0m closing parenthesis ')' does not match opening parenthesis '['\n"
     ]
    }
   ],
   "source": [
    "def get_top_error_data(y_test, pred, n_tops = 5):\n",
    "    result_df = pd.DataFrame(y_test .values, columns=['real_count']) \n",
    "    result_df['predicted_count')= np.round(pred)\n",
    "    result_df['diff']=np.abs(result_df['real_count']-result_df['predicted_count'])\n",
    "    print(result_df.sort_values('diff', ascending=False)[:n_tops])\n",
    "gey_top_error_data(y_test,pred,n_tops=5)"
   ]
  },
  {
   "cell_type": "code",
   "execution_count": 30,
   "id": "cc105b46-f0d8-4dd0-a12f-a6eed63087d6",
   "metadata": {},
   "outputs": [
    {
     "data": {
      "text/plain": [
       "<Axes: >"
      ]
     },
     "execution_count": 30,
     "metadata": {},
     "output_type": "execute_result"
    },
    {
     "data": {
      "image/png": "[encoded data removed]",
      "text/plain": [
       "<Figure size 640x480 with 1 Axes>"
      ]
     },
     "metadata": {},
     "output_type": "display_data"
    }
   ],
   "source": [
    "y_log_transform = np.log1p(y_target) \n",
    "y_log_transform.hist() "
   ]
  },
  {
   "cell_type": "code",
   "execution_count": 31,
   "id": "2ab7e2ee-8076-4997-a3dd-0e453771e640",
   "metadata": {},
   "outputs": [
    {
     "ename": "SyntaxError",
     "evalue": "invalid syntax (3850881925.py, line 2)",
     "output_type": "error",
     "traceback": [
      "\u001b[1;36m  Cell \u001b[1;32mIn[31], line 2\u001b[1;36m\u001b[0m\n\u001b[1;33m    y_target_log = np.lo여 p(y_target)\u001b[0m\n\u001b[1;37m                          ^\u001b[0m\n\u001b[1;31mSyntaxError\u001b[0m\u001b[1;31m:\u001b[0m invalid syntax\n"
     ]
    }
   ],
   "source": [
    "# 타깃 칼럼 인 count 값을 log1p로 로그 변환 \n",
    "y_target_log = np.lo여 p(y_target) \n",
    "# 로그 변환된 y_target_log를 반영해 학습/테스트 데이터 세트 분할 \n",
    "X_train, X_test, y_train, y_test = train_test_split(X_features, y_target_log, test_size=0 .3, \n",
    "random_state=0) \n",
    "lr_reg = LinearRegression() \n",
    "lr_reg.fit(X_train, y_train) \n",
    "pred = lr_reg.predict(X_test) \n",
    "# 테스트 데이터 세트의 Target 값은 로그 변환됐으므로 다시 expm1을 이용해 원래 스케일로 변환 \n",
    "y_test_exp = np.expm1(y_test)\n",
    "# 예측값 역시 로그 변환된 타깃 기반으로 학습돼 예측됐으므로 다시 expm1로 스케일 변환 \n",
    "pred_exp = np.expm1(pred) \n",
    "evaluate_regr(y_test_exp, pred_exp)"
   ]
  },
  {
   "cell_type": "code",
   "execution_count": 32,
   "id": "0eaf8b40-7cc3-48ab-adc2-73d5318800b3",
   "metadata": {},
   "outputs": [
    {
     "data": {
      "text/plain": [
       "<Axes: >"
      ]
     },
     "execution_count": 32,
     "metadata": {},
     "output_type": "execute_result"
    },
    {
     "data": {
      "image/png": "[encoded data removed]",
      "text/plain": [
       "<Figure size 640x480 with 1 Axes>"
      ]
     },
     "metadata": {},
     "output_type": "display_data"
    }
   ],
   "source": [
    "coef = pd.Series(lr_reg.coef_, index=X_features .columns) \n",
    "coef_sort = coef.sort_values(ascending=False) \n",
    "sns.barplot(x=coef_sort.values, y=coef_sort.index)"
   ]
  },
  {
   "cell_type": "code",
   "execution_count": 33,
   "id": "0e5410fd-0c71-417f-8e28-af171d6e3ec3",
   "metadata": {},
   "outputs": [
    {
     "ename": "SyntaxError",
     "evalue": "invalid character '’' (U+2019) (3974297721.py, line 2)",
     "output_type": "error",
     "traceback": [
      "\u001b[1;36m  Cell \u001b[1;32mIn[33], line 2\u001b[1;36m\u001b[0m\n\u001b[1;33m    X_features_ohe = pd .get_dummies(X_features, columns=[ 'year’/ ’month ’ /’day ’/ ’ hour' , ’holiday' ,\u001b[0m\n\u001b[1;37m                                                                                               ^\u001b[0m\n\u001b[1;31mSyntaxError\u001b[0m\u001b[1;31m:\u001b[0m invalid character '’' (U+2019)\n"
     ]
    }
   ],
   "source": [
    "# 'year' , month ', ’day ‘ , hour'등의 피처들을 One Hot Encoding \n",
    "X_features_ohe = pd .get_dummies(X_features, columns=[ 'year’/ ’month ’ /’day ’/ ’ hour' , ’holiday' , \n",
    "’ workingday ’ / ’ season' , ’ weather' 1) "
   ]
  },
  {
   "cell_type": "code",
   "execution_count": 34,
   "id": "ab7c79ca-05ad-4c66-9a7b-1898dad69c3a",
   "metadata": {},
   "outputs": [
    {
     "ename": "SyntaxError",
     "evalue": "invalid character '’' (U+2019) (1262243205.py, line 11)",
     "output_type": "error",
     "traceback": [
      "\u001b[1;36m  Cell \u001b[1;32mIn[34], line 11\u001b[1;36m\u001b[0m\n\u001b[1;33m    print( ’###’ ,model. __ class __ . __ name __ , ’###’ )\u001b[0m\n\u001b[1;37m           ^\u001b[0m\n\u001b[1;31mSyntaxError\u001b[0m\u001b[1;31m:\u001b[0m invalid character '’' (U+2019)\n"
     ]
    }
   ],
   "source": [
    "# 원-핫 인코딩이 적용된 피처 데이터 세트 기반으로 학습/예측 데이터 분할. \n",
    "X_train , X_test , y_train, y_test = train_test_split(X_features_ohe, y_target_log, \n",
    "test_size=0 .3, random_state=덩) \n",
    "# 모델과 학습/테스트 데이터 세트를 입력하면 성능 평가 수치를 반환 \n",
    "def get_model_predict(model, X_train, X_test, y_train, y_test, is_expm1=False): \n",
    "model.fit(X_train, y_train) \n",
    "pred = model.predict(X_test) \n",
    "if is_expm1 : \n",
    "y_test = np.expm1(y_test) \n",
    "pred = np .expm1(pred) \n",
    "print( ’###’ ,model. __ class __ . __ name __ , ’###’ ) \n",
    "evaluate_regr(y_test, pred) \n",
    "# end of function get_model_predict \n",
    "# 모델별로 평가 수행 \n",
    "lr_reg = LinearRegression() \n",
    "ridge_reg = Ridge(alpha=10) \n",
    "lasso_reg = Lasso(alpha=0.이 ) \n",
    "for model in [lr_reg, ridge_reι lasso_reg 1 : \n",
    "get_model_predict(model ,X_train, X_test, y_train, y_test,is_expm1=True)"
   ]
  },
  {
   "cell_type": "code",
   "execution_count": 35,
   "id": "c462e670-e4d8-4bb5-b92b-969254d7b9aa",
   "metadata": {},
   "outputs": [
    {
     "ename": "SyntaxError",
     "evalue": "'[' was never closed (551146640.py, line 2)",
     "output_type": "error",
     "traceback": [
      "\u001b[1;36m  Cell \u001b[1;32mIn[35], line 2\u001b[1;36m\u001b[0m\n\u001b[1;33m    coef_sort = coef.sort_values(ascending=False)[:20J\u001b[0m\n\u001b[1;37m                                                 ^\u001b[0m\n\u001b[1;31mSyntaxError\u001b[0m\u001b[1;31m:\u001b[0m '[' was never closed\n"
     ]
    }
   ],
   "source": [
    "coef = pd.Series(lr_reg.coef_ , index=X_features_ohe.columns) \n",
    "coef_sort = coef.sort_values(ascending=False)[:20J \n",
    "sns.barplot(x=coef_sort.values , y=coef_sort.index) "
   ]
  },
  {
   "cell_type": "code",
   "execution_count": 36,
   "id": "0916ec42-e41d-442d-8bc8-c11884157575",
   "metadata": {},
   "outputs": [
    {
     "ename": "SyntaxError",
     "evalue": "invalid decimal literal (1777236108.py, line 8)",
     "output_type": "error",
     "traceback": [
      "\u001b[1;36m  Cell \u001b[1;32mIn[36], line 8\u001b[1;36m\u001b[0m\n\u001b[1;33m    19bm_reg = LGBMRegressor(n_estimators=500)\u001b[0m\n\u001b[1;37m     ^\u001b[0m\n\u001b[1;31mSyntaxError\u001b[0m\u001b[1;31m:\u001b[0m invalid decimal literal\n"
     ]
    }
   ],
   "source": [
    "from sklearn .ensemble import RandomForestRegressor, GradientBoostingRegressor \n",
    "from xgboost import XGBRegressor \n",
    "from lightgbm import LGBMRegressor \n",
    "# 랜덤 포레스트， GBM, XGBoost, LightGBM model별로 평가 수행 \n",
    "rf_reg = RandomForestRegressor(n_estimators=500) \n",
    "gbm_reg = GradientBoostingRegressor(n_estimators=500) \n",
    "xgb_reg = XGBRegressor(n_estimators=500) \n",
    "19bm_reg = LGBMRegressor(n_estimators=500) \n",
    "for model in [rf_reg, gbm_reg, xgb_reg, 19bm_reg]: \n",
    "# XGBoost의 경우 DataFrameol 입력될 경우 버전에 따라 오류 발생 가능. ndarray로 변환. \n",
    "get_model_predict(model,X_train.values, X_test .values , y_train.values, \n",
    "y_test.values,is_expm1=True) "
   ]
  },
  {
   "cell_type": "code",
   "execution_count": null,
   "id": "69221654-43f1-4fdd-85f3-df84260ba3cc",
   "metadata": {},
   "outputs": [],
   "source": []
  }
 ],
 "metadata": {
  "kernelspec": {
   "display_name": "Python 3 (ipykernel)",
   "language": "python",
   "name": "python3"
  },
  "language_info": {
   "codemirror_mode": {
    "name": "ipython",
    "version": 3
   },
   "file_extension": ".py",
   "mimetype": "text/x-python",
   "name": "python",
   "nbconvert_exporter": "python",
   "pygments_lexer": "ipython3",
   "version": "3.11.5"
  }
 },
 "nbformat": 4,
 "nbformat_minor": 5
}
